{
 "cells": [
  {
   "cell_type": "code",
   "execution_count": 7,
   "metadata": {},
   "outputs": [
    {
     "name": "stdout",
     "output_type": "stream",
     "text": [
      "Info in <TCanvas::Print>: SVG file diagrams/test_1_0.svg has been created\n",
      "Info in <TCanvas::Print>: SVG file diagrams/test_1_1.svg has been created\n",
      "Warning in <TCanvas::Constructor>: Deleting canvas with same name: can\n",
      "Info in <TCanvas::Print>: SVG file diagrams/test_2_0.svg has been created\n",
      "Info in <TCanvas::Print>: SVG file diagrams/test_2_1.svg has been created\n",
      "Info in <TCanvas::Print>: SVG file diagrams/test_2_2.svg has been created\n",
      "Warning in <TCanvas::Constructor>: Deleting canvas with same name: can\n",
      "Info in <TCanvas::Print>: SVG file diagrams/test_3_0.svg has been created\n",
      "Warning in <TCanvas::Constructor>: Deleting canvas with same name: can\n",
      "Info in <TCanvas::Print>: SVG file diagrams/test_4_0.svg has been created\n",
      "Info in <TCanvas::Print>: SVG file diagrams/test_4_1.svg has been created\n",
      "Warning in <TCanvas::Constructor>: Deleting canvas with same name: can\n",
      "Info in <TCanvas::Print>: SVG file diagrams/test_5_0.svg has been created\n",
      "Info in <TCanvas::Print>: SVG file diagrams/test_5_1.svg has been created\n",
      "Warning in <TCanvas::Constructor>: Deleting canvas with same name: can\n",
      "Info in <TCanvas::Print>: SVG file diagrams/test_6_0.svg has been created\n",
      "Info in <TCanvas::Print>: SVG file diagrams/test_6_1.svg has been created\n",
      "Warning in <TCanvas::Constructor>: Deleting canvas with same name: can\n",
      "Info in <TCanvas::Print>: SVG file diagrams/test_7_0.svg has been created\n",
      "Info in <TCanvas::Print>: SVG file diagrams/test_7_1.svg has been created\n",
      "Info in <TCanvas::Print>: SVG file diagrams/test_7_2.svg has been created\n",
      "Info in <TCanvas::Print>: SVG file diagrams/test_7_3.svg has been created\n",
      "Warning in <TCanvas::Constructor>: Deleting canvas with same name: can\n",
      "Info in <TCanvas::Print>: SVG file diagrams/test_8_0.svg has been created\n",
      "Info in <TCanvas::Print>: SVG file diagrams/test_8_1.svg has been created\n",
      "Info in <TCanvas::Print>: SVG file diagrams/test_8_2.svg has been created\n",
      "Warning in <TCanvas::Constructor>: Deleting canvas with same name: can\n",
      "Info in <TCanvas::Print>: SVG file diagrams/test_9_0.svg has been created\n",
      "Info in <TCanvas::Print>: SVG file diagrams/test_9_1.svg has been created\n",
      "Info in <TCanvas::Print>: SVG file diagrams/test_9_2.svg has been created\n",
      "Info in <TCanvas::Print>: SVG file diagrams/test_9_3.svg has been created\n"
     ]
    }
   ],
   "source": [
    "file = open('generate.cmnd', 'w')\n",
    "\n",
    "file.write('Beams:eCM = 13000.\\n') \n",
    "file.write('HardQCD:all = on\\n')\n",
    "file.write('PhaseSpace:pTHatMin = 6000.\\n')\n",
    "file.close()\n",
    "\n",
    "!./generate > eventFiles/events.txt\n",
    "!rm diagrams/*.svg\n",
    "!./main > /dev/null"
   ]
  },
  {
   "cell_type": "code",
   "execution_count": 5,
   "metadata": {
    "attributes": {
     "classes": [],
     "id": "",
     "n": "1"
    },
    "scrolled": false
   },
   "outputs": [
    {
     "data": {
      "application/vnd.jupyter.widget-view+json": {
       "model_id": "264cf6ce40c94748ab85ab334e786be5",
       "version_major": 2,
       "version_minor": 0
      },
      "text/plain": [
       "interactive(children=(BoundedFloatText(value=1.0, description='Text:', max=9.0, min=1.0, step=1.0), IntSlider(…"
      ]
     },
     "metadata": {},
     "output_type": "display_data"
    }
   ],
   "source": [
    "from IPython.display import SVG, display\n",
    "\n",
    "def f(evId, mpiId):\n",
    "    evId = int(evId)\n",
    "    return display(SVG('diagrams/test_'+str(evId)+'_'+str(mpiId)+'.svg'))\n",
    "from ipywidgets import *\n",
    "interact(f, evId=widgets.BoundedFloatText(value=1, min=1,max=9, step=1, description='Text:', disabled=False),\n",
    "         \n",
    "            mpiId=widgets.IntSlider(min=0,max=10,step=1,value=0)\n",
    "        );"
   ]
  },
  {
   "cell_type": "code",
   "execution_count": null,
   "metadata": {},
   "outputs": [],
   "source": [
    "!ls"
   ]
  }
 ],
 "metadata": {
  "kernelspec": {
   "display_name": "Python 3",
   "language": "python",
   "name": "python3"
  },
  "language_info": {
   "codemirror_mode": {
    "name": "ipython",
    "version": 3
   },
   "file_extension": ".py",
   "mimetype": "text/x-python",
   "name": "python",
   "nbconvert_exporter": "python",
   "pygments_lexer": "ipython3",
   "version": "3.5.2"
  }
 },
 "nbformat": 4,
 "nbformat_minor": 2
}
